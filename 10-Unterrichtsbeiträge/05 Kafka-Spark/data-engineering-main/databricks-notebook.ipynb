{
 "cells": [
  {
   "cell_type": "markdown",
   "metadata": {
    "application/vnd.databricks.v1+cell": {
     "cellMetadata": {},
     "inputWidgets": {},
     "nuid": "209195ef-1da7-4fc8-b4f4-1b3d54505416",
     "showTitle": false,
     "title": ""
    }
   },
   "source": [
    "# Übung Spark mit Databricks\n",
    "### Ziel der Übung\n",
    "Das Ziel der Übung besteht darin, die Wikimedia-Daten aus dem Kafka Cluster zu extrahieren und auszuwerten. Es sollen folgende Fragestellungen beantwortet werden:\n",
    "- Was ist das Verhältnis zwischen Bot- und Nicht-Bot Einträgen?\n",
    "- Was sind die TOP-5 Domains mit den meisten Änderungen?\n",
    "- Was sind die TOP-5 Accounts mit den meisten Änderungen\n",
    "\n",
    "Zur Auswertung der Daten soll die Dataframe API verwendet werden ([API-Dokumentation](https://spark.apache.org/docs/latest/api/python/reference/pyspark.sql/dataframe.html))."
   ]
  },
  {
   "cell_type": "code",
   "execution_count": 0,
   "metadata": {
    "application/vnd.databricks.v1+cell": {
     "cellMetadata": {
      "byteLimit": 2048000,
      "rowLimit": 10000
     },
     "inputWidgets": {},
     "nuid": "b1ecead1-f5f9-4607-844e-20321fbae4b2",
     "showTitle": false,
     "title": ""
    }
   },
   "outputs": [],
   "source": [
    "# Für die Übung benötigte Imports\n",
    "from pyspark.sql.types import StructType, StructField, StringType, BooleanType, LongType, IntegerType\n",
    "from pyspark.sql.functions import from_json, col, desc"
   ]
  },
  {
   "cell_type": "markdown",
   "metadata": {
    "application/vnd.databricks.v1+cell": {
     "cellMetadata": {},
     "inputWidgets": {},
     "nuid": "96a9edfc-0589-4bbf-8183-e7ed69e76dc9",
     "showTitle": false,
     "title": ""
    }
   },
   "source": [
    "### Lade die Wikimedia-Daten aus dem Kafka Cluster\n",
    "Eine hilfreiche Dokumentation findet ihr [hier](https://spark.apache.org/docs/latest/structured-streaming-kafka-integration.html). Da die Verbindung zum Upstash-Cluster Probleme verursachen kann, geben wir euch einen Teil der Optionen vor:\n",
    "\n",
    "```python\n",
    "option(\"kafka.bootstrap.servers\", \"your_value\")\n",
    "option(\"kafka.sasl.jaas.config\", \"kafkashaded.org.apache.kafka.common.security.scram.ScramLoginModule required username=\\\"your_value\\\" password=\\\"your_value\\\";\")\n",
    "option(\"kafka.sasl.mechanism\", \"SCRAM-SHA-256\")\n",
    "option(\"kafka.security.protocol\", \"SASL_SSL\")\n",
    "```"
   ]
  },
  {
   "cell_type": "code",
   "execution_count": 0,
   "metadata": {
    "application/vnd.databricks.v1+cell": {
     "cellMetadata": {},
     "inputWidgets": {},
     "nuid": "3fc7d147-c9b0-4ad7-922d-f9692aa31792",
     "showTitle": false,
     "title": ""
    }
   },
   "outputs": [],
   "source": [
    "# inputDF = spark \\\n",
    "#           ...\n",
    "\n",
    "display(inputDF)"
   ]
  },
  {
   "cell_type": "markdown",
   "metadata": {
    "application/vnd.databricks.v1+cell": {
     "cellMetadata": {},
     "inputWidgets": {},
     "nuid": "f0a5a72a-53d5-4e6b-a9f1-96b0446bf433",
     "showTitle": false,
     "title": ""
    }
   },
   "source": [
    "### Umwandlung der Daten in das Ursprungsformat\n",
    "Bei diesem Abschnitt gibt es für euch nichts zu tun. Kafka übermittelt die Daten in binärer Form, weshalb wir sie hier in das ursprüngliche JSON-Format umwandeln."
   ]
  },
  {
   "cell_type": "code",
   "execution_count": 0,
   "metadata": {
    "application/vnd.databricks.v1+cell": {
     "cellMetadata": {},
     "inputWidgets": {},
     "nuid": "1fc94119-d423-4ed2-8301-f1bc02e8a407",
     "showTitle": false,
     "title": ""
    }
   },
   "outputs": [],
   "source": [
    "schema = StructType([\n",
    "  StructField(\"schema\", StringType()),\n",
    "  StructField(\"meta\", StructType([\n",
    "    StructField(\"uri\", StringType()),\n",
    "    StructField(\"request_id\", StringType()),\n",
    "    StructField(\"id\", StringType()),\n",
    "    StructField(\"dt\", StringType()),\n",
    "    StructField(\"domain\", StringType()),\n",
    "    StructField(\"stream\", StringType()),\n",
    "    StructField(\"topic\", StringType()),\n",
    "    StructField(\"partition\", IntegerType()),\n",
    "    StructField(\"offset\", LongType())\n",
    "  ])),\n",
    "  StructField(\"id\", LongType()),\n",
    "  StructField(\"type\", StringType()),\n",
    "  StructField(\"namespace\", IntegerType()),\n",
    "  StructField(\"title\", StringType()),\n",
    "  StructField(\"comment\", StringType()),\n",
    "  StructField(\"timestamp\", LongType()),\n",
    "  StructField(\"user\", StringType()),\n",
    "  StructField(\"bot\", BooleanType()),\n",
    "  StructField(\"minor\", BooleanType()),\n",
    "  StructField(\"patrolled\", BooleanType()),\n",
    "  StructField(\"length\", StructType([\n",
    "    StructField(\"old\", IntegerType()),\n",
    "    StructField(\"new\", IntegerType())\n",
    "  ])),\n",
    "  StructField(\"revision\", StructType([\n",
    "    StructField(\"old\", LongType()),\n",
    "    StructField(\"new\", LongType())\n",
    "  ])),\n",
    "  StructField(\"server_url\", StringType()),\n",
    "  StructField(\"server_name\", StringType()),\n",
    "  StructField(\"server_script_path\", StringType()),\n",
    "  StructField(\"wiki\", StringType()),\n",
    "  StructField(\"parsedcomment\", StringType())\n",
    "])\n",
    "\n",
    "parsedValueDF = inputDF \\\n",
    "  .select(from_json(col(\"value\").cast(\"string\"), schema).alias(\"parsed_value\"))\n",
    "\n",
    "display(parsedValueDF)"
   ]
  },
  {
   "cell_type": "markdown",
   "metadata": {
    "application/vnd.databricks.v1+cell": {
     "cellMetadata": {},
     "inputWidgets": {},
     "nuid": "1cca557f-1d83-45da-b1e5-ea3426c852af",
     "showTitle": false,
     "title": ""
    }
   },
   "source": [
    "### Was ist das Verhältnis zwischen Bot und Nicht-Bot Einträgen?\n",
    "\n",
    "Ermittelt das Verhältnis zwischen Bot und Nicht-Bot Einträgen. Stellt das Ergebnis anschließend in einem Pie-Chart dar. <br> Die relevanten Spark-Befehle findet ihr [hier](https://spark.apache.org/docs/latest/api/python/reference/pyspark.pandas/api/pyspark.pandas.groupby.GroupBy.count.html).\n"
   ]
  },
  {
   "cell_type": "code",
   "execution_count": 0,
   "metadata": {
    "application/vnd.databricks.v1+cell": {
     "cellMetadata": {},
     "inputWidgets": {},
     "nuid": "57a9a907-403c-4cea-b3be-9ee03e0d3f8f",
     "showTitle": false,
     "title": ""
    }
   },
   "outputs": [],
   "source": [
    "# botCountDF = parsedValueDF \\\n",
    "#              ...\n",
    "\n",
    "display(botCountDF)"
   ]
  },
  {
   "cell_type": "markdown",
   "metadata": {
    "application/vnd.databricks.v1+cell": {
     "cellMetadata": {},
     "inputWidgets": {},
     "nuid": "9a989bd8-de5d-48a3-9069-176bf13761cc",
     "showTitle": false,
     "title": ""
    }
   },
   "source": [
    "### Was sind die TOP-5 Domains mit den meisten Änderungen?\n",
    "Ermittelt die TOP-5 Domains mit den meisten Änderungen. Stellt das Ergebnis anschließend in einem Bar-Chart dar."
   ]
  },
  {
   "cell_type": "code",
   "execution_count": 0,
   "metadata": {
    "application/vnd.databricks.v1+cell": {
     "cellMetadata": {},
     "inputWidgets": {},
     "nuid": "59bd341c-8a05-4562-a238-3786af6bcdb0",
     "showTitle": false,
     "title": ""
    }
   },
   "outputs": [],
   "source": [
    "# changesPerDomainDF = parsedValueDF \\\n",
    "#                      ...\n",
    "\n",
    "display(changesPerDomainDF)"
   ]
  },
  {
   "cell_type": "markdown",
   "metadata": {
    "application/vnd.databricks.v1+cell": {
     "cellMetadata": {},
     "inputWidgets": {},
     "nuid": "d1b8498d-6a1e-4df1-a5ac-e3b57840b5fa",
     "showTitle": false,
     "title": ""
    }
   },
   "source": [
    "### Was sind die TOP-5 Accounts mit den meisten Änderungen?\n",
    "Ermittelt die TOP-5 Accounts mit den meisten Änderungen. Stellt das Ergebnis anschließend in einem Bar-Chart dar."
   ]
  },
  {
   "cell_type": "code",
   "execution_count": 0,
   "metadata": {
    "application/vnd.databricks.v1+cell": {
     "cellMetadata": {},
     "inputWidgets": {},
     "nuid": "ec9a9c87-1437-49c7-981a-2a77f5d13502",
     "showTitle": false,
     "title": ""
    }
   },
   "outputs": [],
   "source": [
    "# changesPerAccountDF = parsedValueDF \\\n",
    "#                       ...\n",
    "\n",
    "display(changesPerAccountDF)"
   ]
  }
 ],
 "metadata": {
  "application/vnd.databricks.v1+notebook": {
   "dashboards": [
    {
     "elements": [],
     "globalVars": {},
     "guid": "",
     "layoutOption": {
      "grid": true,
      "stack": true
     },
     "nuid": "eeabfe8d-a0b4-48be-a985-0457e202302b",
     "origId": 2083286942304176,
     "title": "Wikimedia Statistik",
     "version": "DashboardViewV1",
     "width": 1024
    }
   ],
   "language": "python",
   "notebookMetadata": {
    "pythonIndentUnit": 4
   },
   "notebookName": "databricks-notebook (1)",
   "widgets": {}
  }
 },
 "nbformat": 4,
 "nbformat_minor": 0
}
